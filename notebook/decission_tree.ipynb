{
  "nbformat": 4,
  "nbformat_minor": 0,
  "metadata": {
    "colab": {
      "name": "decission tree.ipynb",
      "provenance": [],
      "collapsed_sections": []
    },
    "kernelspec": {
      "name": "python3",
      "display_name": "Python 3"
    },
    "language_info": {
      "name": "python"
    }
  },
  "cells": [
    {
      "cell_type": "markdown",
      "source": [
        "visit original file: https://colab.research.google.com/drive/1h5VTF-Wqikfp2Hk-kud3lLB1Cs1iclXC?usp=sharing"
      ],
      "metadata": {
        "id": "0kO_shRrlMtp"
      }
    },
    {
      "cell_type": "code",
      "metadata": {
        "colab": {
          "base_uri": "https://localhost:8080/"
        },
        "id": "iKVvA_EgD0RP",
        "outputId": "c861c5ee-f3fa-456c-f8aa-424725184516"
      },
      "source": [
        "!pip uninstall scikit-learn\n",
        "!pip install scikit-learn==0.20.4\n",
        "!pip install sklearn-porter"
      ],
      "execution_count": 1,
      "outputs": [
        {
          "output_type": "stream",
          "name": "stdout",
          "text": [
            "Found existing installation: scikit-learn 1.0.1\n",
            "Uninstalling scikit-learn-1.0.1:\n",
            "  Would remove:\n",
            "    /usr/local/lib/python3.7/dist-packages/scikit_learn-1.0.1.dist-info/*\n",
            "    /usr/local/lib/python3.7/dist-packages/scikit_learn.libs/libgomp-f7e03b3e.so.1.0.0\n",
            "    /usr/local/lib/python3.7/dist-packages/sklearn/*\n",
            "Proceed (y/n)? y\n",
            "  Successfully uninstalled scikit-learn-1.0.1\n",
            "Collecting scikit-learn==0.20.4\n",
            "  Downloading scikit_learn-0.20.4-cp37-cp37m-manylinux1_x86_64.whl (5.4 MB)\n",
            "\u001b[K     |████████████████████████████████| 5.4 MB 4.2 MB/s \n",
            "\u001b[?25hRequirement already satisfied: scipy>=0.13.3 in /usr/local/lib/python3.7/dist-packages (from scikit-learn==0.20.4) (1.4.1)\n",
            "Requirement already satisfied: numpy>=1.8.2 in /usr/local/lib/python3.7/dist-packages (from scikit-learn==0.20.4) (1.19.5)\n",
            "Installing collected packages: scikit-learn\n",
            "\u001b[31mERROR: pip's dependency resolver does not currently take into account all the packages that are installed. This behaviour is the source of the following dependency conflicts.\n",
            "imbalanced-learn 0.8.1 requires scikit-learn>=0.24, but you have scikit-learn 0.20.4 which is incompatible.\u001b[0m\n",
            "Successfully installed scikit-learn-0.20.4\n",
            "Collecting sklearn-porter\n",
            "  Downloading sklearn_porter-0.7.4-py3-none-any.whl (144 kB)\n",
            "\u001b[K     |████████████████████████████████| 144 kB 4.0 MB/s \n",
            "\u001b[?25hRequirement already satisfied: six in /usr/local/lib/python3.7/dist-packages (from sklearn-porter) (1.15.0)\n",
            "Requirement already satisfied: scikit-learn>=0.14.1 in /usr/local/lib/python3.7/dist-packages (from sklearn-porter) (0.20.4)\n",
            "Requirement already satisfied: numpy>=1.8.2 in /usr/local/lib/python3.7/dist-packages (from scikit-learn>=0.14.1->sklearn-porter) (1.19.5)\n",
            "Requirement already satisfied: scipy>=0.13.3 in /usr/local/lib/python3.7/dist-packages (from scikit-learn>=0.14.1->sklearn-porter) (1.4.1)\n",
            "Installing collected packages: sklearn-porter\n",
            "Successfully installed sklearn-porter-0.7.4\n"
          ]
        }
      ]
    },
    {
      "cell_type": "code",
      "metadata": {
        "id": "2ZR2KDKVUwiT"
      },
      "source": [
        "from sklearn.datasets import load_iris\n",
        "from sklearn.tree import tree\n",
        "from sklearn_porter import Porter\n",
        "from enum import IntEnum"
      ],
      "execution_count": 32,
      "outputs": []
    },
    {
      "cell_type": "code",
      "metadata": {
        "id": "YDa5t43_VWi6"
      },
      "source": [
        "class PrivacyLevel(IntEnum):\n",
        "  PUBLIC = 0\n",
        "  NORMAL = 1\n",
        "  PRIVATE = 2\n",
        "  TOP_SECRET = 3\n",
        "\n",
        "class ConnectionType(IntEnum):\n",
        "  OFFLINE = 0\n",
        "  WIFI = 1\n",
        "  MOBILE = 2\n",
        "\n",
        "class SignalStrenght(IntEnum):\n",
        "  WEAK = 0\n",
        "  NORMAL = 1\n",
        "  STRONG = 2\n",
        "\n",
        "class ConnectionSpeed(IntEnum):\n",
        "  CRITICAL_LOW = 0\n",
        "  LOW = 1\n",
        "  NORMAL = 2\n",
        "  FAST = 3\n",
        "  ULTRA_FAST = 4\n",
        "\n",
        "class EnviromentProperties:\n",
        "  def __init__(self, \n",
        "               privacy_level: PrivacyLevel, \n",
        "               baterry_level: float, # [0, 1]\n",
        "               signal_strenght: SignalStrenght,\n",
        "               connection_type: ConnectionType,\n",
        "               connection_speed: ConnectionSpeed,\n",
        "               data_size: float, # KB\n",
        "               use_cloud:bool = False\n",
        "               ):\n",
        "    self.privacy_level = privacy_level\n",
        "    self.baterry_level = baterry_level\n",
        "    self.signal_strenght = signal_strenght\n",
        "    self.connection_type = connection_type\n",
        "    self.connection_speed = connection_speed\n",
        "    self.data_size = data_size\n",
        "    self.use_cloud = 1 if use_cloud else 0\n",
        "\n",
        "  def to_array(self):\n",
        "    return [\n",
        "            int(self.privacy_level), \n",
        "            self.baterry_level, \n",
        "            int(self.signal_strenght), \n",
        "            int(self.connection_type),\n",
        "            int(self.connection_speed),\n",
        "            self.data_size\n",
        "            ]"
      ],
      "execution_count": 40,
      "outputs": []
    },
    {
      "cell_type": "code",
      "metadata": {
        "id": "WTDAob6NU_4a"
      },
      "source": [
        "data = [\n",
        "  EnviromentProperties(\n",
        "    privacy_level=PrivacyLevel.NORMAL,\n",
        "    baterry_level=0.5,\n",
        "    signal_strenght=SignalStrenght.NORMAL,\n",
        "    connection_type=ConnectionType.WIFI,\n",
        "    connection_speed=ConnectionSpeed.LOW,\n",
        "    data_size=1000,\n",
        "    use_cloud=False\n",
        "  ), \n",
        "  EnviromentProperties(\n",
        "    privacy_level=PrivacyLevel.NORMAL,\n",
        "    baterry_level=0.1,\n",
        "    signal_strenght=SignalStrenght.NORMAL,\n",
        "    connection_type=ConnectionType.WIFI,\n",
        "    connection_speed=ConnectionSpeed.FAST,\n",
        "    data_size=1000,\n",
        "    use_cloud=True\n",
        "  ),\n",
        "]"
      ],
      "execution_count": 41,
      "outputs": []
    },
    {
      "cell_type": "code",
      "source": [
        "X = [item.to_array() for item in data]\n",
        "Y = [item.use_cloud for item in data]\n",
        "clf = tree.DecisionTreeClassifier()\n",
        "clf = clf.fit(X, Y)"
      ],
      "metadata": {
        "id": "XHvQ9qqDdq4V"
      },
      "execution_count": 42,
      "outputs": []
    },
    {
      "cell_type": "code",
      "metadata": {
        "colab": {
          "base_uri": "https://localhost:8080/"
        },
        "id": "WMdRjbXyVEWk",
        "outputId": "ee77a72c-f021-462d-8bbe-b3efc89d85e8"
      },
      "source": [
        "print(clf.predict([\n",
        "                   EnviromentProperties(\n",
        "                    privacy_level=PrivacyLevel.NORMAL,\n",
        "                    baterry_level=0.5,\n",
        "                    signal_strenght=SignalStrenght.NORMAL,\n",
        "                    connection_type=ConnectionType.WIFI,\n",
        "                    connection_speed=ConnectionSpeed.FAST,\n",
        "                    data_size=1000\n",
        "                  ).to_array()\n",
        "                  ]))"
      ],
      "execution_count": 43,
      "outputs": [
        {
          "output_type": "stream",
          "name": "stdout",
          "text": [
            "[0]\n"
          ]
        }
      ]
    },
    {
      "cell_type": "code",
      "metadata": {
        "colab": {
          "base_uri": "https://localhost:8080/"
        },
        "id": "edeEEDo1D7Bt",
        "outputId": "d3add954-f201-4142-f658-fef59a565e9a"
      },
      "source": [
        "porter = Porter(clf, language='js')\n",
        "output = porter.export(embed_data=True)\n",
        "print(output)"
      ],
      "execution_count": 44,
      "outputs": [
        {
          "output_type": "stream",
          "name": "stdout",
          "text": [
            "var DecisionTreeClassifier = function() {\n",
            "\n",
            "    var findMax = function(nums) {\n",
            "        var index = 0;\n",
            "        for (var i = 0; i < nums.length; i++) {\n",
            "            index = nums[i] > nums[index] ? i : index;\n",
            "        }\n",
            "        return index;\n",
            "    };\n",
            "\n",
            "    this.predict = function(features) {\n",
            "        var classes = new Array(2);\n",
            "            \n",
            "        if (features[1] <= 0.30000000074505806) {\n",
            "            classes[0] = 0; \n",
            "            classes[1] = 1; \n",
            "        } else {\n",
            "            classes[0] = 1; \n",
            "            classes[1] = 0; \n",
            "        }\n",
            "    \n",
            "        return findMax(classes);\n",
            "    };\n",
            "\n",
            "};\n",
            "\n",
            "if (typeof process !== 'undefined' && typeof process.argv !== 'undefined') {\n",
            "    if (process.argv.length - 2 === 6) {\n",
            "\n",
            "        // Features:\n",
            "        var features = process.argv.slice(2);\n",
            "\n",
            "        // Prediction:\n",
            "        var clf = new DecisionTreeClassifier();\n",
            "        var prediction = clf.predict(features);\n",
            "        console.log(prediction);\n",
            "\n",
            "    }\n",
            "}\n"
          ]
        }
      ]
    }
  ]
}